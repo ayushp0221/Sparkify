{
 "cells": [
  {
   "cell_type": "code",
   "execution_count": null,
   "id": "81513b68-495a-4e0f-8e08-a4f9fcd43b52",
   "metadata": {},
   "outputs": [],
   "source": [
    "import os\n",
    "import boto3\n",
    "import json\n",
    "import logging\n",
    "from botocore.exceptions import ClientError\n",
    "def create_bucket(bucket_name, region=None):\n",
    "    try:\n",
    "        if region is None:\n",
    "            s3_client = boto3.client(\"s3\")\n",
    "            s3_client.create_bucket(Bucket=bucket_name)\n",
    "        else:\n",
    "            s3_client = boto3.client(\"s3\", region_name=region)\n",
    "            location = {\"LocationConstraint\": region}\n",
    "            s3_client.create_bucket(\n",
    "                    Bucket=bucket_name, CreateBucketConfiguration=location\n",
    "                    )\n",
    "    except ClientError as e:\n",
    "        logging.error(e)\n",
    "        return False\n",
    "    return True\n",
    "\n",
    "\n",
    "def upload_logData():\n",
    "    dire = r\"/home/ubuntu/log_data/\"\n",
    "    s3 = boto3.client(\"s3\")\n",
    "    bucket = \"a1ayush\"\n",
    "    key = 1\n",
    "    for filename in os.listdir(dire):\n",
    "        with open(dire + filename, encoding=\"utf-8\") as f:\n",
    "            for jsonObj in f:\n",
    "                dic = json.loads(jsonObj)\n",
    "                dic = json.dumps(dic)\n",
    "                s3.put_object(Body=dic, Bucket=bucket, Key=str(key))\n",
    "                key += 1\n",
    "\n",
    "\n",
    "create_bucket(\"a1ayush\")\n",
    "upload_logData()"
   ]
  }
 ],
 "metadata": {
  "kernelspec": {
   "display_name": "Python 3 (ipykernel)",
   "language": "python",
   "name": "python3"
  },
  "language_info": {
   "codemirror_mode": {
    "name": "ipython",
    "version": 3
   },
   "file_extension": ".py",
   "mimetype": "text/x-python",
   "name": "python",
   "nbconvert_exporter": "python",
   "pygments_lexer": "ipython3",
   "version": "3.11.7"
  }
 },
 "nbformat": 4,
 "nbformat_minor": 5
}
