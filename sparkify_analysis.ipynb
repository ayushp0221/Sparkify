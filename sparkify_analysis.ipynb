{
 "cells": [
  {
   "cell_type": "code",
   "execution_count": 4,
   "id": "6a0a022e-c53e-4e63-9900-abd2f1420aca",
   "metadata": {},
   "outputs": [
    {
     "name": "stdout",
     "output_type": "stream",
     "text": [
      "Requirement already satisfied: boto3 in /Users/ayushprajapati/anaconda3/lib/python3.11/site-packages (1.34.74)\n",
      "Requirement already satisfied: botocore<1.35.0,>=1.34.74 in /Users/ayushprajapati/anaconda3/lib/python3.11/site-packages (from boto3) (1.34.74)\n",
      "Requirement already satisfied: jmespath<2.0.0,>=0.7.1 in /Users/ayushprajapati/anaconda3/lib/python3.11/site-packages (from boto3) (1.0.1)\n",
      "Requirement already satisfied: s3transfer<0.11.0,>=0.10.0 in /Users/ayushprajapati/anaconda3/lib/python3.11/site-packages (from boto3) (0.10.1)\n",
      "Requirement already satisfied: python-dateutil<3.0.0,>=2.1 in /Users/ayushprajapati/anaconda3/lib/python3.11/site-packages (from botocore<1.35.0,>=1.34.74->boto3) (2.8.2)\n",
      "Requirement already satisfied: urllib3!=2.2.0,<3,>=1.25.4 in /Users/ayushprajapati/anaconda3/lib/python3.11/site-packages (from botocore<1.35.0,>=1.34.74->boto3) (2.0.7)\n",
      "Requirement already satisfied: six>=1.5 in /Users/ayushprajapati/anaconda3/lib/python3.11/site-packages (from python-dateutil<3.0.0,>=2.1->botocore<1.35.0,>=1.34.74->boto3) (1.16.0)\n",
      "Note: you may need to restart the kernel to use updated packages.\n"
     ]
    }
   ],
   "source": [
    "pip install boto3"
   ]
  },
  {
   "cell_type": "code",
   "execution_count": 16,
   "id": "9128659e-bbcd-4d7b-a70d-2d1c44a39a1b",
   "metadata": {},
   "outputs": [
    {
     "name": "stdout",
     "output_type": "stream",
     "text": [
      "Requirement already satisfied: ipyparallel in /Users/ayushprajapati/anaconda3/lib/python3.11/site-packages (8.7.0)\n",
      "Requirement already satisfied: decorator in /Users/ayushprajapati/anaconda3/lib/python3.11/site-packages (from ipyparallel) (5.1.1)\n",
      "Requirement already satisfied: entrypoints in /Users/ayushprajapati/anaconda3/lib/python3.11/site-packages (from ipyparallel) (0.4)\n",
      "Requirement already satisfied: ipykernel>=4.4 in /Users/ayushprajapati/anaconda3/lib/python3.11/site-packages (from ipyparallel) (6.28.0)\n",
      "Requirement already satisfied: ipython>=4 in /Users/ayushprajapati/anaconda3/lib/python3.11/site-packages (from ipyparallel) (8.20.0)\n",
      "Requirement already satisfied: jupyter-client in /Users/ayushprajapati/anaconda3/lib/python3.11/site-packages (from ipyparallel) (8.6.0)\n",
      "Requirement already satisfied: psutil in /Users/ayushprajapati/anaconda3/lib/python3.11/site-packages (from ipyparallel) (5.9.0)\n",
      "Requirement already satisfied: python-dateutil>=2.1 in /Users/ayushprajapati/anaconda3/lib/python3.11/site-packages (from ipyparallel) (2.8.2)\n",
      "Requirement already satisfied: pyzmq>=18 in /Users/ayushprajapati/anaconda3/lib/python3.11/site-packages (from ipyparallel) (25.1.2)\n",
      "Requirement already satisfied: tornado>=5.1 in /Users/ayushprajapati/anaconda3/lib/python3.11/site-packages (from ipyparallel) (6.3.3)\n",
      "Requirement already satisfied: tqdm in /Users/ayushprajapati/anaconda3/lib/python3.11/site-packages (from ipyparallel) (4.65.0)\n",
      "Requirement already satisfied: traitlets>=4.3 in /Users/ayushprajapati/anaconda3/lib/python3.11/site-packages (from ipyparallel) (5.7.1)\n",
      "Requirement already satisfied: appnope in /Users/ayushprajapati/anaconda3/lib/python3.11/site-packages (from ipykernel>=4.4->ipyparallel) (0.1.2)\n",
      "Requirement already satisfied: comm>=0.1.1 in /Users/ayushprajapati/anaconda3/lib/python3.11/site-packages (from ipykernel>=4.4->ipyparallel) (0.1.2)\n",
      "Requirement already satisfied: debugpy>=1.6.5 in /Users/ayushprajapati/anaconda3/lib/python3.11/site-packages (from ipykernel>=4.4->ipyparallel) (1.6.7)\n",
      "Requirement already satisfied: jupyter-core!=5.0.*,>=4.12 in /Users/ayushprajapati/anaconda3/lib/python3.11/site-packages (from ipykernel>=4.4->ipyparallel) (5.5.0)\n",
      "Requirement already satisfied: matplotlib-inline>=0.1 in /Users/ayushprajapati/anaconda3/lib/python3.11/site-packages (from ipykernel>=4.4->ipyparallel) (0.1.6)\n",
      "Requirement already satisfied: nest-asyncio in /Users/ayushprajapati/anaconda3/lib/python3.11/site-packages (from ipykernel>=4.4->ipyparallel) (1.5.6)\n",
      "Requirement already satisfied: packaging in /Users/ayushprajapati/anaconda3/lib/python3.11/site-packages (from ipykernel>=4.4->ipyparallel) (23.1)\n",
      "Requirement already satisfied: jedi>=0.16 in /Users/ayushprajapati/anaconda3/lib/python3.11/site-packages (from ipython>=4->ipyparallel) (0.18.1)\n",
      "Requirement already satisfied: prompt-toolkit<3.1.0,>=3.0.41 in /Users/ayushprajapati/anaconda3/lib/python3.11/site-packages (from ipython>=4->ipyparallel) (3.0.43)\n",
      "Requirement already satisfied: pygments>=2.4.0 in /Users/ayushprajapati/anaconda3/lib/python3.11/site-packages (from ipython>=4->ipyparallel) (2.15.1)\n",
      "Requirement already satisfied: stack-data in /Users/ayushprajapati/anaconda3/lib/python3.11/site-packages (from ipython>=4->ipyparallel) (0.2.0)\n",
      "Requirement already satisfied: pexpect>4.3 in /Users/ayushprajapati/anaconda3/lib/python3.11/site-packages (from ipython>=4->ipyparallel) (4.8.0)\n",
      "Requirement already satisfied: six>=1.5 in /Users/ayushprajapati/anaconda3/lib/python3.11/site-packages (from python-dateutil>=2.1->ipyparallel) (1.16.0)\n",
      "Requirement already satisfied: parso<0.9.0,>=0.8.0 in /Users/ayushprajapati/anaconda3/lib/python3.11/site-packages (from jedi>=0.16->ipython>=4->ipyparallel) (0.8.3)\n",
      "Requirement already satisfied: platformdirs>=2.5 in /Users/ayushprajapati/anaconda3/lib/python3.11/site-packages (from jupyter-core!=5.0.*,>=4.12->ipykernel>=4.4->ipyparallel) (3.10.0)\n",
      "Requirement already satisfied: ptyprocess>=0.5 in /Users/ayushprajapati/anaconda3/lib/python3.11/site-packages (from pexpect>4.3->ipython>=4->ipyparallel) (0.7.0)\n",
      "Requirement already satisfied: wcwidth in /Users/ayushprajapati/anaconda3/lib/python3.11/site-packages (from prompt-toolkit<3.1.0,>=3.0.41->ipython>=4->ipyparallel) (0.2.5)\n",
      "Requirement already satisfied: executing in /Users/ayushprajapati/anaconda3/lib/python3.11/site-packages (from stack-data->ipython>=4->ipyparallel) (0.8.3)\n",
      "Requirement already satisfied: asttokens in /Users/ayushprajapati/anaconda3/lib/python3.11/site-packages (from stack-data->ipython>=4->ipyparallel) (2.0.5)\n",
      "Requirement already satisfied: pure-eval in /Users/ayushprajapati/anaconda3/lib/python3.11/site-packages (from stack-data->ipython>=4->ipyparallel) (0.2.2)\n",
      "Note: you may need to restart the kernel to use updated packages.\n"
     ]
    }
   ],
   "source": [
    "pip install ipyparallel"
   ]
  },
  {
   "cell_type": "code",
   "execution_count": 17,
   "id": "e8360ea4-3b56-4591-8f1a-8559fc6e3029",
   "metadata": {},
   "outputs": [],
   "source": [
    "import boto3\n",
    "import json\n",
    "from ipyparallel import Client\n",
    "import pandas as pd;\n",
    "import numpy as np"
   ]
  },
  {
   "cell_type": "code",
   "execution_count": null,
   "id": "e747d466-3f38-4c07-b4f5-b3d44f2e4ec0",
   "metadata": {},
   "outputs": [],
   "source": [
    "rc = Client()\n",
    "len(rc)"
   ]
  },
  {
   "cell_type": "code",
   "execution_count": null,
   "id": "8dcbb1db-de46-4ad6-b691-89abec67821f",
   "metadata": {},
   "outputs": [],
   "source": [
    "s3 = boto3.resource('s3')"
   ]
  },
  {
   "cell_type": "code",
   "execution_count": null,
   "id": "349a6cce-c56f-4c91-9cbc-d7e2fdf65c78",
   "metadata": {},
   "outputs": [],
   "source": [
    "for bucket in s3.buckets.all():\n",
    "    print (bucket.name)"
   ]
  },
  {
   "cell_type": "code",
   "execution_count": null,
   "id": "5a0feee4-e901-475c-8117-aaa41e690267",
   "metadata": {},
   "outputs": [],
   "source": [
    "dview=rc[:]"
   ]
  },
  {
   "cell_type": "code",
   "execution_count": null,
   "id": "184daa6e-697e-49a8-a3d6-a129670723e4",
   "metadata": {},
   "outputs": [],
   "source": [
    "dview"
   ]
  },
  {
   "cell_type": "code",
   "execution_count": null,
   "id": "e00725ba-91ba-421a-8613-f9ed6c4d212a",
   "metadata": {},
   "outputs": [],
   "source": [
    "s3_b=s3.Bucket('');\n",
    "objcount=len(list(s3_b.objects.all()))"
   ]
  },
  {
   "cell_type": "code",
   "execution_count": null,
   "id": "72244a64-7904-4ed6-a06e-7d93ff480cbd",
   "metadata": {},
   "outputs": [],
   "source": [
    "dicto={}"
   ]
  },
  {
   "cell_type": "code",
   "execution_count": null,
   "id": "005c57c5-2247-4924-adac-02d191ba6e2b",
   "metadata": {},
   "outputs": [],
   "source": [
    "import boto3\n",
    "import json\n",
    "\n",
    "def songcounter(x, y):\n",
    "    dicto = {}\n",
    "    s3 = boto3.client('s3')\n",
    "    for i in range(x, y):\n",
    "        # Format the key as a string number with no prefix.\n",
    "        key = str(i)\n",
    "        try:\n",
    "            obj = s3.get_object(Bucket='a1ayush', Key=key)\n",
    "            k = json.loads(obj['Body'].read())\n",
    "            if k.get('song'):  # Using .get() avoids KeyError if 'song' is not present\n",
    "                dicto[k['song']] = dicto.get(k['song'], 0) + 1\n",
    "        except s3.exceptions.NoSuchKey:\n",
    "            print(f\"Key {key} does not exist.\")\n",
    "        except s3.exceptions.ClientError as e:\n",
    "            # Handle other possible exceptions, such as permissions issues\n",
    "            print(f\"Unable to fetch object with key {key}: {e}\")\n",
    "    return dicto\n",
    "\n",
    "# Use the function to count songs, for example, for keys 1 through 1042\n",
    "song_counts = songcounter(1, 1043)\n",
    "print(song_counts)\n"
   ]
  },
  {
   "cell_type": "code",
   "execution_count": null,
   "id": "0526e07c-e333-47ab-b048-4b14660d2ae0",
   "metadata": {},
   "outputs": [],
   "source": [
    "import numpy as np\n",
    "\n",
    "# Assuming song_counts is the dictionary of song counts\n",
    "song_counts = songcounter(1, 1043)\n",
    "\n",
    "# Convert the dictionary to a numpy array of [song, count] pairs\n",
    "data = np.array([[song, count] for song, count in song_counts.items()])"
   ]
  },
  {
   "cell_type": "code",
   "execution_count": null,
   "id": "971f1444-c406-42fc-a1ff-915637fdf494",
   "metadata": {},
   "outputs": [],
   "source": [
    "data"
   ]
  },
  {
   "cell_type": "code",
   "execution_count": null,
   "id": "738dcac6-3e67-4c29-af24-2419b878c9a0",
   "metadata": {},
   "outputs": [],
   "source": [
    "df=pd.DataFrame(data,columns=['song','count'])"
   ]
  },
  {
   "cell_type": "code",
   "execution_count": null,
   "id": "08adb82e-a455-438c-96ca-1620461ce422",
   "metadata": {},
   "outputs": [],
   "source": [
    "df.head()"
   ]
  },
  {
   "cell_type": "code",
   "execution_count": null,
   "id": "71f0c5dd-688f-412c-9098-32231da0faad",
   "metadata": {},
   "outputs": [],
   "source": [
    "df['count']=pd.to_numeric(df['count'])"
   ]
  },
  {
   "cell_type": "code",
   "execution_count": null,
   "id": "355071d9-b4ae-4afb-8c63-001e31141633",
   "metadata": {},
   "outputs": [],
   "source": [
    "df.sort_values(by='count',ascending=False).head(10)"
   ]
  }
 ],
 "metadata": {
  "kernelspec": {
   "display_name": "Python 3 (ipykernel)",
   "language": "python",
   "name": "python3"
  },
  "language_info": {
   "codemirror_mode": {
    "name": "ipython",
    "version": 3
   },
   "file_extension": ".py",
   "mimetype": "text/x-python",
   "name": "python",
   "nbconvert_exporter": "python",
   "pygments_lexer": "ipython3",
   "version": "3.11.7"
  }
 },
 "nbformat": 4,
 "nbformat_minor": 5
}
