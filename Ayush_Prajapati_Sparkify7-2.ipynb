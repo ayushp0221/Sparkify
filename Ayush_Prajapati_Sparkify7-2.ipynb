{
 "cells": [
  {
   "cell_type": "code",
   "execution_count": null,
   "id": "52a7b46b-03b6-4f27-bf72-9d7a4dbc7deb",
   "metadata": {},
   "outputs": [],
   "source": [
    "from pyspark import SparkContext\n",
    "import json\n",
    "import time\n",
    "\n",
    "# Initialize a Spark context configured to use four threads and named 'top20Song'\n",
    "sc = SparkContext('local[4]', 'top20Song')\n",
    "sc.setLogLevel('FATAL')  # Suppress logging except for critical messages\n",
    "\n",
    "start = time.perf_counter()  # Start timing the operation\n",
    "\n",
    "# Specify the location of the input data in an S3 bucket\n",
    "input_bucket = \"s3://a3ayush/\"\n",
    "\n",
    "# Load the data from the S3 bucket into an RDD (Resilient Distributed Dataset)\n",
    "lines = sc.textFile(input_bucket)\n",
    "\n",
    "# Transform the data:\n",
    "# 1. Parse each line as JSON.\n",
    "# 2. Extract the 'song' field.\n",
    "# 3. Count each song occurrence.\n",
    "# 4. Filter out entries without a song name.\n",
    "# 5. Aggregate counts by song.\n",
    "# 6. Sort by count in descending order.\n",
    "# 7. Retrieve the top 20 entries.\n",
    "counter = lines.map(lambda line: json.loads(line)) \\\n",
    "              .map(lambda event: (event.get(\"song\"), 1)) \\\n",
    "              .filter(lambda x: x[0] is not None) \\\n",
    "              .reduceByKey(lambda a, b: a + b) \\\n",
    "              .sortBy(lambda a: -a[1]) \\\n",
    "              .take(20)\n",
    "\n",
    "# Output the time taken to perform the data processing\n",
    "print('Time taken for entire job = {:.4f}s'.format(time.perf_counter() - start))\n",
    "print('\\nThe top 20 songs are:\\nSong\\t\\tCount\\n')\n",
    "\n",
    "# Save the results to a text file and print them\n",
    "with open('songs.txt', 'w') as f:\n",
    "    f.write(\"Song\\t\\tCount\\n\")\n",
    "    for (song, count) in counter:\n",
    "        print(song, '\\t\\t', count)\n",
    "        f.write('{}\\t\\t{}\\n'.format(song, count))\n",
    "\n",
    "# The 'with' statement ensures the file is closed after the block is executed"
   ]
  }
 ],
 "metadata": {
  "kernelspec": {
   "display_name": "Python 3 (ipykernel)",
   "language": "python",
   "name": "python3"
  },
  "language_info": {
   "codemirror_mode": {
    "name": "ipython",
    "version": 3
   },
   "file_extension": ".py",
   "mimetype": "text/x-python",
   "name": "python",
   "nbconvert_exporter": "python",
   "pygments_lexer": "ipython3",
   "version": "3.11.7"
  }
 },
 "nbformat": 4,
 "nbformat_minor": 5
}
